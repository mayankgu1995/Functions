{
  "nbformat": 4,
  "nbformat_minor": 0,
  "metadata": {
    "colab": {
      "provenance": []
    },
    "kernelspec": {
      "name": "python3",
      "display_name": "Python 3"
    },
    "language_info": {
      "name": "python"
    }
  },
  "cells": [
    {
      "cell_type": "markdown",
      "source": [
        "**Theory Questions:**\n",
        "\n",
        "1. What is the difference between a function and a method in Python?\n",
        "\n",
        "- **Function:** A function is a block of reusable code designed to perform a specific task. It is defined independently and can be called directly by its name from anywhere in the program, as long as it's within its defined scope. Functions do not inherently belong to any specific object or class.\n",
        "\n",
        "Example:\n",
        "\n",
        "    def greet(name):\n",
        "        print(f\"Hello, {name}!\")\n",
        "\n",
        "    greet(\"Alice\") # Calling the function directly\n",
        "\n",
        "  \n",
        "**Method:** A method is a function that is defined within a class and is associated with objects (instances) of that class. Methods operate on the data (attributes) of the object they are called upon and are typically invoked using the dot notation (object.method()). The first parameter of a method is conventionally self, which refers to the instance of the class the method is called on.\n",
        "\n",
        "    class Dog:\n",
        "        def __init__(self, name):\n",
        "            self.name = name\n",
        "\n",
        "        def bark(self): # This is a method\n",
        "            print(f\"{self.name} says Woof!\")\n",
        "\n",
        "    my_dog = Dog(\"Buddy\")\n",
        "    my_dog.bark() # Calling the method on the 'my_dog' object\n",
        "\n",
        "\n",
        "2. Explain the concept of function arguments and parameters in Python.\n",
        "\n",
        "- **Parameters:** These are the variables defined in the function's signature, within the parentheses, when you define the function. They act as placeholders for the values that the function expects to receive when it is called.\n",
        "\n",
        "    def greet(name, age): # 'name' and 'age' are parameters\n",
        "        print(f\"Hello, {name}! You are {age} years old.\")\n",
        "\n",
        "**Arguments:** These are the actual values or expressions that are passed to the function when you call it. These values are assigned to the corresponding parameters within the function's local scope during execution.\n",
        "\n",
        "greet(\"Alice\", 30) # \"Alice\" and 30 are arguments\n",
        "\n",
        "\n",
        "**Parameters:** are part of the function definition.\n",
        "**Arguments:** are part of the function call.\n",
        "\n",
        "\n",
        "\n",
        "3. What are the different ways to define and call a function in Python?\n",
        "\n",
        "-  **Defining a Function:**\n",
        "The primary way to define a function in Python is using the def keyword.\n",
        "\n",
        "example:\n",
        "\n",
        "def function_name(parameter1, parameter2, ...):\n",
        "\n",
        "**Calling a Function:**\n",
        "To execute the code within a defined function, you call it by its name, followed by parentheses.\n",
        "\n",
        "function_name(argument1, argument2, ...)\n",
        "\n",
        "\n",
        "\n",
        "4. What is the purpose of the `return` statement in a Python function?\n",
        "\n",
        "- The return statement can be used to send one or more values back to the caller of the function. This returned value (or values) can then be stored in a variable, used in an expression, or passed as an argument to another function. If no value is specified with the return statement, or if the function completes without encountering a return statement, the function implicitly returns None.\n",
        "\n",
        "Example:\n",
        "\n",
        "def add_numbers(a, b):\n",
        "    sum_result = a + b\n",
        "    return sum_result  # Returns the sum and exits the function\n",
        "\n",
        "result = add_numbers(5, 3)\n",
        "print(result)  # Output: 8\n",
        "\n",
        "\n",
        "5. What are iterators in Python and how do they differ from iterables?\n",
        "\n",
        "- An Iterable is basically an object that any user can iterate over. An Iterator is also an object that helps a user in iterating over another object (that is iterable).\n",
        "\n",
        "\n",
        "6. Explain the concept of generators in Python and how they are defined.\n",
        "\n",
        "- A generator function in Python is defined like a regular function, but instead of using return to send back a value, it uses yield. When a generator function is called, it doesn't execute the code immediately. Instead, it returns a generator object, which is an iterator.\n",
        "\n",
        "7.  What are the advantages of using generators over regular functions?\n",
        "\n",
        "- Unlike traditional Python functions, generators pause execution and resume on next(). They efficiently handle large or infinite data streams, such as Fibonacci sequences. more Python generator functions are a way to create iterators using yield, eliminating the need for __iter__() and __next__().\n",
        "\n",
        "\n",
        "8. What is a lambda function in Python and when is it typically used?\n",
        "\n",
        "- A lambda function in Python is a small, anonymous function defined using the lambda keyword. It can have any number of arguments, but only one expression. Lambda functions are typically used for short, simple operations, especially when you need to pass a function as an argument to another function (like map, filter, or sorted).\n",
        "\n",
        "\n",
        "9. Explain the purpose and usage of the `map()` function in Python.\n",
        "\n",
        "- The map() function in Python is a built-in function used to apply a specified function to each item in an iterable (like a list, tuple, or set) and return an iterator that yields the results. It provides a concise and efficient way to transform data within iterables without explicitly writing loops.\n",
        "\n",
        "10. What is the difference between `map()`, `reduce()`, and `filter()` functions in Python?\n",
        "\n",
        "-  **map():** This function applies a given function to each item in an iterable (or multiple iterables) and returns an iterator that yields the results. It is used for transformation, creating a new sequence where each element is the result of applying the function to the corresponding element(s) of the input iterable(s).\n",
        "\n",
        "    numbers = [1, 2, 3, 4]\n",
        "    squared_numbers = list(map(lambda x: x*x, numbers)) # [1, 4, 9, 16]\n",
        "\n",
        "**reduce():**  This function, found in the functools module, applies a given function cumulatively to the items of an iterable, from left to right, so as to reduce the iterable to a single value. It is used for aggregation, combining all elements into a single result.    \n",
        "\n",
        "    from functools import reduce\n",
        "    numbers = [1, 2, 3, 4]\n",
        "    sum_of_numbers = reduce(lambda x, y: x + y, numbers) # 10\n",
        "\n",
        "**filter():** This function constructs an iterator from elements of an iterable for which a given function returns True. It is used for selection, creating a new sequence containing only the elements that satisfy a specific condition.\n",
        "\n",
        "\n",
        "    numbers = [1, 2, 3, 4, 5, 6]\n",
        "    even_numbers = list(filter(lambda x: x % 2 == 0, numbers)) # [2, 4, 6]\n",
        "\n",
        "11.  Using pen & Paper write the internal mechanism for sum operation using  reduce function on this given  list:[47,11,42,13];\n",
        "\n",
        "\n",
        "\n",
        "- 47+11=58\n",
        "58+42=100\n",
        "100+13=113\n",
        "\n",
        "So output is 113\n",
        "\n",
        "\n"
      ],
      "metadata": {
        "id": "Xn-OU7Byxl-b"
      }
    },
    {
      "cell_type": "markdown",
      "source": [
        "**Practical Questions:**"
      ],
      "metadata": {
        "id": "KwBV_PdtHUWv"
      }
    },
    {
      "cell_type": "code",
      "execution_count": null,
      "metadata": {
        "id": "wuutC_2LxYXg"
      },
      "outputs": [],
      "source": [
        "#1. Write a Python function that takes a list of numbers as input and returns the sum of all even numbers in\n",
        "#the list.\n",
        "\n",
        "def sum_even_numbers(numbers):\n",
        "    \"\"\"\n",
        "    Calculates the sum of all even numbers in a list.\n",
        "\n",
        "    Args:\n",
        "      numbers: A list of numbers.\n",
        "\n",
        "    Returns:\n",
        "      The sum of all even numbers in the list.\n",
        "    \"\"\"\n",
        "    total = 0\n",
        "    for number in numbers:\n",
        "        if number % 2 == 0:\n",
        "            total += number\n",
        "    return total\n"
      ]
    },
    {
      "cell_type": "code",
      "source": [
        "sum_even_numbers([2,4,6,8])"
      ],
      "metadata": {
        "colab": {
          "base_uri": "https://localhost:8080/"
        },
        "id": "7R9C8-s7Hjpx",
        "outputId": "dc9ca846-f77f-437b-c698-4a9164764293"
      },
      "execution_count": null,
      "outputs": [
        {
          "output_type": "execute_result",
          "data": {
            "text/plain": [
              "20"
            ]
          },
          "metadata": {},
          "execution_count": 4
        }
      ]
    },
    {
      "cell_type": "code",
      "source": [
        "#2. Create a Python function that accepts a string and returns the reverse of that string.\n",
        "\n",
        "def reverse_string(input_string):\n",
        "  \"\"\"\n",
        "  Reverses a given string.\n",
        "\n",
        "  Args:\n",
        "    input_string: The string to be reversed.\n",
        "\n",
        "  Returns:\n",
        "    The reversed string.\n",
        "  \"\"\"\n",
        "  return input_string[::-1]\n",
        "\n",
        "# Example usage:\n",
        "original_str = \"hello\"\n",
        "reversed_str = reverse_string(original_str)\n",
        "print(f\"Original string: {original_str}\")\n",
        "print(f\"Reversed string: {reversed_str}\")\n",
        "\n",
        "original_str_2 = \"Python\"\n",
        "reversed_str_2 = reverse_string(original_str_2)\n",
        "print(f\"Original string: {original_str_2}\")\n",
        "print(f\"Reversed string: {reversed_str_2}\")"
      ],
      "metadata": {
        "colab": {
          "base_uri": "https://localhost:8080/"
        },
        "id": "9BJwk-MMHu2j",
        "outputId": "6db704e8-3550-4b13-cd24-7b2b664c0b4e"
      },
      "execution_count": null,
      "outputs": [
        {
          "output_type": "stream",
          "name": "stdout",
          "text": [
            "Original string: hello\n",
            "Reversed string: olleh\n",
            "Original string: Python\n",
            "Reversed string: nohtyP\n"
          ]
        }
      ]
    },
    {
      "cell_type": "code",
      "source": [
        "#3. Implement a Python function that takes a list of integers and returns a new list containing the squares of\n",
        "#each number.\n",
        "\n",
        "#-\n",
        "\n",
        "def square_list(numbers):\n",
        "  \"\"\"\n",
        "  This function takes a list of integers and returns a new list containing the squares of each number.\n",
        "\n",
        "  Args:\n",
        "    numbers: A list of integers.\n",
        "\n",
        "  Returns:\n",
        "    A new list containing the squares of the input numbers.\n",
        "  \"\"\"\n",
        "  return [number ** 2 for number in numbers]\n"
      ],
      "metadata": {
        "id": "koDvPXGFIrjC"
      },
      "execution_count": 6,
      "outputs": []
    },
    {
      "cell_type": "code",
      "source": [
        "square_list([5,6,7,8])"
      ],
      "metadata": {
        "colab": {
          "base_uri": "https://localhost:8080/"
        },
        "id": "AVdIgq-4LsFz",
        "outputId": "2ee083d8-aa7f-4f46-ae93-e31888ceb442"
      },
      "execution_count": 7,
      "outputs": [
        {
          "output_type": "execute_result",
          "data": {
            "text/plain": [
              "[25, 36, 49, 64]"
            ]
          },
          "metadata": {},
          "execution_count": 7
        }
      ]
    },
    {
      "cell_type": "code",
      "source": [
        "#4. Write a Python function that checks if a given number is prime or not from 1 to 200.\n",
        "\n",
        "#-\n",
        "\n",
        "import math\n",
        "\n",
        "def is_prime(number):\n",
        "    \"\"\"\n",
        "    Checks if a given number is prime.\n",
        "\n",
        "    Args:\n",
        "        number: An integer.\n",
        "\n",
        "    Returns:\n",
        "        True if the number is prime, False otherwise.\n",
        "    \"\"\"\n",
        "    if number <= 1:\n",
        "        return False  # Numbers less than or equal to 1 are not prime\n",
        "\n",
        "    # Check for divisibility from 2 up to the square root of the number\n",
        "    # We only need to check up to the square root for efficiency\n",
        "    for i in range(2, int(math.sqrt(number)) + 1):\n",
        "        if number % i == 0:\n",
        "            return False  # If divisible by any number, it's not prime\n",
        "    return True  # If no divisors found, it's prime\n",
        "\n",
        "# Example usage for numbers from 1 to 200:\n",
        "# for num in range(1, 201):\n",
        "#     if is_prime(num):\n",
        "#         print(f\"{num} is prime\")\n",
        "#     else:\n",
        "#         print(f\"{num} is not prime\")"
      ],
      "metadata": {
        "id": "4wvgrda7L0AE"
      },
      "execution_count": 8,
      "outputs": []
    },
    {
      "cell_type": "code",
      "source": [
        "is_prime(43)"
      ],
      "metadata": {
        "colab": {
          "base_uri": "https://localhost:8080/"
        },
        "id": "OloKVLg_MIeu",
        "outputId": "39b77628-b33b-4363-c96c-b68146e71152"
      },
      "execution_count": 9,
      "outputs": [
        {
          "output_type": "execute_result",
          "data": {
            "text/plain": [
              "True"
            ]
          },
          "metadata": {},
          "execution_count": 9
        }
      ]
    },
    {
      "cell_type": "code",
      "source": [
        "is_prime(42)"
      ],
      "metadata": {
        "colab": {
          "base_uri": "https://localhost:8080/"
        },
        "id": "wM3zJrN4MYyQ",
        "outputId": "56553c47-da30-47a4-bb7b-21cd80811532"
      },
      "execution_count": 10,
      "outputs": [
        {
          "output_type": "execute_result",
          "data": {
            "text/plain": [
              "False"
            ]
          },
          "metadata": {},
          "execution_count": 10
        }
      ]
    },
    {
      "cell_type": "code",
      "source": [
        "#5. Create an iterator class in Python that generates the Fibonacci sequence up to a specified number of\n",
        "#terms.\n",
        "\n",
        "#-\n",
        "\n",
        "class FibonacciIterator:\n",
        "    def __init__(self, num_terms):\n",
        "        if not isinstance(num_terms, int) or num_terms < 0:\n",
        "            raise ValueError(\"Number of terms must be a non-negative integer.\")\n",
        "        self._num_terms = num_terms\n",
        "        self._current_term = 0\n",
        "        self._a = 0\n",
        "        self._b = 1\n",
        "\n",
        "    def __iter__(self):\n",
        "        return self\n",
        "\n",
        "    def __next__(self):\n",
        "        if self._current_term >= self._num_terms:\n",
        "            raise StopIteration\n",
        "\n",
        "        if self._current_term == 0:\n",
        "            value = self._a\n",
        "        elif self._current_term == 1:\n",
        "            value = self._b\n",
        "        else:\n",
        "            value = self._a + self._b\n",
        "            self._a = self._b\n",
        "            self._b = value\n",
        "\n",
        "        self._current_term += 1\n",
        "        return value\n",
        "\n",
        "# Example usage:\n",
        "fib_iter = FibonacciIterator(10)\n",
        "print(\"Fibonacci sequence up to 10 terms:\")\n",
        "for num in fib_iter:\n",
        "    print(num)\n",
        "\n",
        "print(\"\\nFibonacci sequence up to 5 terms:\")\n",
        "fib_iter_short = FibonacciIterator(5)\n",
        "for num in fib_iter_short:\n",
        "    print(num)"
      ],
      "metadata": {
        "colab": {
          "base_uri": "https://localhost:8080/"
        },
        "id": "INum3H2vMclW",
        "outputId": "0fa40927-87d7-4d51-9d42-3998e80be7ba"
      },
      "execution_count": 11,
      "outputs": [
        {
          "output_type": "stream",
          "name": "stdout",
          "text": [
            "Fibonacci sequence up to 10 terms:\n",
            "0\n",
            "1\n",
            "1\n",
            "2\n",
            "3\n",
            "5\n",
            "8\n",
            "13\n",
            "21\n",
            "34\n",
            "\n",
            "Fibonacci sequence up to 5 terms:\n",
            "0\n",
            "1\n",
            "1\n",
            "2\n",
            "3\n"
          ]
        }
      ]
    },
    {
      "cell_type": "code",
      "source": [
        "#6. Write a generator function in Python that yields the powers of 2 up to a given exponent.\n",
        "\n",
        "#-\n",
        "\n",
        "two_powers_gen = powers_of_two(5)\n",
        "\n",
        "# Iterate and print the yielded values\n",
        "print(\"Powers of 2 up to exponent 5:\")\n",
        "for power in two_powers_gen:\n",
        "    print(power)"
      ],
      "metadata": {
        "colab": {
          "base_uri": "https://localhost:8080/"
        },
        "id": "ZJ-mVC9UMtHn",
        "outputId": "fc89be77-3243-40f4-d37e-c9822f21e5f3"
      },
      "execution_count": 17,
      "outputs": [
        {
          "output_type": "stream",
          "name": "stdout",
          "text": [
            "Powers of 2 up to exponent 5:\n",
            "1\n",
            "2\n",
            "4\n",
            "8\n",
            "16\n",
            "32\n"
          ]
        }
      ]
    },
    {
      "cell_type": "code",
      "source": [
        "#7.  Implement a generator function that reads a file line by line and yields each line as a string.\n",
        "\n",
        "#-\n",
        "\n",
        "def read_file_line_by_line(file_path):\n",
        "    \"\"\"\n",
        "    Reads a file line by line and yields each line as a string.\n",
        "\n",
        "    Args:\n",
        "        file_path (str): The path to the file to be read.\n",
        "\n",
        "    Yields:\n",
        "        str: Each line from the file, including the newline character if present.\n",
        "    \"\"\"\n",
        "    try:\n",
        "        with open(file_path, 'r') as file:\n",
        "            for line in file:\n",
        "                yield line\n",
        "    except FileNotFoundError:\n",
        "        print(f\"Error: The file '{file_path}' was not found.\")\n",
        "    except Exception as e:\n",
        "        print(f\"An error occurred: {e}\")\n",
        "\n",
        "# Example usage:\n",
        "# Create a dummy file for demonstration\n",
        "with open(\"example.txt\", \"w\") as f:\n",
        "    f.write(\"This is line 1.\\n\")\n",
        "    f.write(\"This is line 2.\\n\")\n",
        "    f.write(\"And this is line 3.\")\n",
        "\n",
        "# Use the generator to read and print lines\n",
        "print(\"Reading lines from 'example.txt':\")\n",
        "for line in read_file_line_by_line(\"example.txt\"):\n",
        "    print(line.strip()) # .strip() removes leading/trailing whitespace, including newline\n",
        "\n",
        "# Example with a non-existent file\n",
        "print(\"\\nAttempting to read a non-existent file:\")\n",
        "for line in read_file_line_by_line(\"non_existent_file.txt\"):\n",
        "    print(line.strip())"
      ],
      "metadata": {
        "colab": {
          "base_uri": "https://localhost:8080/"
        },
        "id": "NlBlafP2NDQx",
        "outputId": "297be41e-3126-4021-f895-9673064745c8"
      },
      "execution_count": 18,
      "outputs": [
        {
          "output_type": "stream",
          "name": "stdout",
          "text": [
            "Reading lines from 'example.txt':\n",
            "This is line 1.\n",
            "This is line 2.\n",
            "And this is line 3.\n",
            "\n",
            "Attempting to read a non-existent file:\n",
            "Error: The file 'non_existent_file.txt' was not found.\n"
          ]
        }
      ]
    },
    {
      "cell_type": "code",
      "source": [
        "#8. Use a lambda function in Python to sort a list of tuples based on the second element of each tuple.\n",
        "\n",
        "#- # Original list of tuples\n",
        "data = [('apple', 3), ('banana', 1), ('cherry', 2), ('date', 4)]\n",
        "\n",
        "# Sort the list based on the second element of each tuple using a lambda function\n",
        "sorted_data = sorted(data, key=lambda x: x[1])\n",
        "\n",
        "# Print the sorted list\n",
        "print(sorted_data)"
      ],
      "metadata": {
        "colab": {
          "base_uri": "https://localhost:8080/"
        },
        "id": "andK7-UpNZH5",
        "outputId": "037a08f4-59e0-4fb6-b620-9cbcb709fb24"
      },
      "execution_count": 19,
      "outputs": [
        {
          "output_type": "stream",
          "name": "stdout",
          "text": [
            "[('banana', 1), ('cherry', 2), ('apple', 3), ('date', 4)]\n"
          ]
        }
      ]
    },
    {
      "cell_type": "code",
      "source": [
        "#9. Write a Python program that uses `map()` to convert a list of temperatures from Celsius to Fahrenheit.\n",
        "\n",
        "#-\n",
        "\n",
        "def celsius_to_fahrenheit(celsius):\n",
        "  \"\"\"Converts a temperature from Celsius to Fahrenheit.\"\"\"\n",
        "  return (celsius * 9/5) + 32\n",
        "\n",
        "def convert_temperatures(celsius_list):\n",
        "    \"\"\"Converts a list of Celsius temperatures to Fahrenheit using map().\"\"\"\n",
        "    fahrenheit_list = list(map(celsius_to_fahrenheit, celsius_list))\n",
        "    return fahrenheit_list\n",
        "\n",
        "# Example usage:\n",
        "celsius_temps = [0, 10, 20, 30, 40]\n",
        "fahrenheit_temps = convert_temperatures(celsius_temps)\n",
        "print(f\"Celsius temperatures: {celsius_temps}\")\n",
        "print(f\"Fahrenheit temperatures: {fahrenheit_temps}\")"
      ],
      "metadata": {
        "colab": {
          "base_uri": "https://localhost:8080/"
        },
        "id": "Zp3-nvMhN1Lg",
        "outputId": "a218231b-9037-41f3-9c5f-129ca5910491"
      },
      "execution_count": 20,
      "outputs": [
        {
          "output_type": "stream",
          "name": "stdout",
          "text": [
            "Celsius temperatures: [0, 10, 20, 30, 40]\n",
            "Fahrenheit temperatures: [32.0, 50.0, 68.0, 86.0, 104.0]\n"
          ]
        }
      ]
    },
    {
      "cell_type": "code",
      "source": [
        "#10. Create a Python program that uses `filter()` to remove all the vowels from a given string.\n",
        "\n",
        "#-\n",
        "\n",
        "a=list(\"sample\")\n",
        "def vowel(x):\n",
        "    v=('a','e','i','o','u')\n",
        "    return x in v\n",
        "\n",
        "b=list(filter(vowel,a))\n",
        "print(\"Vowels : \",b)\n",
        "print(\"No of Vowels : \",len(b))"
      ],
      "metadata": {
        "colab": {
          "base_uri": "https://localhost:8080/"
        },
        "id": "bG04J5azOs7f",
        "outputId": "98186d09-a727-4d1e-8725-0896bba5f800"
      },
      "execution_count": 21,
      "outputs": [
        {
          "output_type": "stream",
          "name": "stdout",
          "text": [
            "Vowels :  ['a', 'e']\n",
            "No of Vowels :  2\n"
          ]
        }
      ]
    },
    {
      "cell_type": "code",
      "source": [
        "#11.  Imagine an accounting routine used in a book shop. It works on a list with sublists, which look like this:\n",
        "\n",
        "#-\n",
        "\n",
        "orders = [\n",
        "    [\"34587\", 4, 40.95],\n",
        "    [\"98762\", 5, 56.80],\n",
        "    [\"77226\", 3, 32.95],\n",
        "    [\"88112\", 3, 24.99]\n",
        "]\n",
        "\n",
        "calculate_order_total = lambda order: (order[0], (order[1] * order[2] + 10) if (order[1] * order[2]) < 100 else (order[1] * order[2]))\n",
        "\n",
        "result = list(map(lambda order: (order[0], (order[1] * order[2] + 10) if (order[1] * order[2]) < 100 else (order[1] * order[2])), orders))\n",
        "\n",
        "print(result)"
      ],
      "metadata": {
        "colab": {
          "base_uri": "https://localhost:8080/"
        },
        "id": "QMldGJYPPSgg",
        "outputId": "ced8dece-3997-4a11-91bf-f7944718af3a"
      },
      "execution_count": 22,
      "outputs": [
        {
          "output_type": "stream",
          "name": "stdout",
          "text": [
            "[('34587', 163.8), ('98762', 284.0), ('77226', 108.85000000000001), ('88112', 84.97)]\n"
          ]
        }
      ]
    },
    {
      "cell_type": "code",
      "source": [],
      "metadata": {
        "id": "LTq7CmJZQLUd"
      },
      "execution_count": null,
      "outputs": []
    },
    {
      "cell_type": "code",
      "source": [],
      "metadata": {
        "id": "sksdaWhjS1X_"
      },
      "execution_count": null,
      "outputs": []
    }
  ]
}